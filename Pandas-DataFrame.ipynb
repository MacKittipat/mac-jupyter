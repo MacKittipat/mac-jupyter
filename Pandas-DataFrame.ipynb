{
 "cells": [
  {
   "cell_type": "markdown",
   "metadata": {},
   "source": [
    "# DataFrame\n",
    "https://pandas.pydata.org/pandas-docs/stable/api.html#dataframe"
   ]
  },
  {
   "cell_type": "code",
   "execution_count": 2,
   "metadata": {
    "collapsed": true
   },
   "outputs": [],
   "source": [
    "import pandas as pd\n",
    "import numpy as np"
   ]
  },
  {
   "cell_type": "code",
   "execution_count": 3,
   "metadata": {},
   "outputs": [
    {
     "name": "stdout",
     "output_type": "stream",
     "text": [
      "            0\n",
      "0        Java\n",
      "1      Python\n",
      "2  JavaScript\n",
      "3        Ruby\n",
      "4          Go\n"
     ]
    }
   ],
   "source": [
    "l = [\"Java\", \"Python\", \"JavaScript\", \"Ruby\", \"Go\"]\n",
    "df = pd.DataFrame(l)\n",
    "print(df)"
   ]
  },
  {
   "cell_type": "code",
   "execution_count": 4,
   "metadata": {},
   "outputs": [
    {
     "name": "stdout",
     "output_type": "stream",
     "text": [
      "                0\n",
      "lang1        Java\n",
      "lang2      Python\n",
      "lang3  JavaScript\n",
      "lang4        Ruby\n",
      "lang5          Go\n"
     ]
    }
   ],
   "source": [
    "l = [\"Java\", \"Python\", \"JavaScript\", \"Ruby\", \"Go\"]\n",
    "df = pd.DataFrame(l, index=['lang1', 'lang2', 'lang3', 'lang4', 'lang5'])\n",
    "print(df)"
   ]
  },
  {
   "cell_type": "code",
   "execution_count": 5,
   "metadata": {},
   "outputs": [
    {
     "name": "stdout",
     "output_type": "stream",
     "text": [
      "        age         job  marriage\n",
      "name                             \n",
      "Alice    28       Nurse      True\n",
      "Bob      32  Programmer      True\n",
      "Cole     38      Police     False\n",
      "Donald   44      Doctor      True\n",
      "Eric     51    Engineer     False\n"
     ]
    }
   ],
   "source": [
    "d = {\n",
    "    \"name\" : [\"Alice\", \"Bob\", \"Cole\", \"Donald\", \"Eric\"],\n",
    "    \"age\" : [28, 32, 38, 44, 51],\n",
    "    \"job\" : [\"Nurse\", \"Programmer\", \"Police\", \"Doctor\", \"Engineer\"],\n",
    "    \"marriage\" : [True, True, False, True, False]\n",
    "}\n",
    "df = pd.DataFrame(d)\n",
    "df = df.set_index('name')\n",
    "print(df)"
   ]
  },
  {
   "cell_type": "code",
   "execution_count": 6,
   "metadata": {},
   "outputs": [
    {
     "name": "stdout",
     "output_type": "stream",
     "text": [
      "name\n",
      "Alice     28\n",
      "Bob       32\n",
      "Cole      38\n",
      "Donald    44\n",
      "Eric      51\n",
      "Name: age, dtype: int64\n"
     ]
    }
   ],
   "source": [
    "print(df['age'])"
   ]
  },
  {
   "cell_type": "code",
   "execution_count": 7,
   "metadata": {},
   "outputs": [
    {
     "name": "stdout",
     "output_type": "stream",
     "text": [
      "        age  marriage\n",
      "name                 \n",
      "Alice    28      True\n",
      "Bob      32      True\n",
      "Cole     38     False\n",
      "Donald   44      True\n",
      "Eric     51     False\n"
     ]
    }
   ],
   "source": [
    "print(df[['age', 'marriage']])"
   ]
  },
  {
   "cell_type": "code",
   "execution_count": 8,
   "metadata": {},
   "outputs": [
    {
     "name": "stdout",
     "output_type": "stream",
     "text": [
      "age            28\n",
      "job         Nurse\n",
      "marriage     True\n",
      "Name: Alice, dtype: object\n"
     ]
    }
   ],
   "source": [
    "print(df.loc['Alice'])"
   ]
  },
  {
   "cell_type": "code",
   "execution_count": 9,
   "metadata": {},
   "outputs": [
    {
     "name": "stdout",
     "output_type": "stream",
     "text": [
      "       age     job  marriage\n",
      "name                        \n",
      "Alice   28   Nurse      True\n",
      "Cole    38  Police     False\n"
     ]
    }
   ],
   "source": [
    "print(df.loc[['Alice', 'Cole']])"
   ]
  },
  {
   "cell_type": "code",
   "execution_count": 10,
   "metadata": {},
   "outputs": [
    {
     "name": "stdout",
     "output_type": "stream",
     "text": [
      "name\n",
      "Alice    28\n",
      "Cole     38\n",
      "Name: age, dtype: int64\n"
     ]
    }
   ],
   "source": [
    "print(df.loc[['Alice', 'Cole']]['age'])"
   ]
  },
  {
   "cell_type": "code",
   "execution_count": 11,
   "metadata": {},
   "outputs": [
    {
     "name": "stdout",
     "output_type": "stream",
     "text": [
      "name\n",
      "Alice     False\n",
      "Bob       False\n",
      "Cole      False\n",
      "Donald     True\n",
      "Eric       True\n",
      "Name: age, dtype: bool\n"
     ]
    }
   ],
   "source": [
    "print(df['age'] > 40)"
   ]
  },
  {
   "cell_type": "code",
   "execution_count": 12,
   "metadata": {},
   "outputs": [
    {
     "name": "stdout",
     "output_type": "stream",
     "text": [
      "        age       job  marriage\n",
      "name                           \n",
      "Donald   44    Doctor      True\n",
      "Eric     51  Engineer     False\n"
     ]
    }
   ],
   "source": [
    "print(df[df['age'] > 40])"
   ]
  },
  {
   "cell_type": "code",
   "execution_count": 13,
   "metadata": {
    "scrolled": true
   },
   "outputs": [
    {
     "name": "stdout",
     "output_type": "stream",
     "text": [
      "name\n",
      "Donald      Doctor\n",
      "Eric      Engineer\n",
      "Name: job, dtype: object\n"
     ]
    }
   ],
   "source": [
    "print(df[df['age'] > 40]['job'])"
   ]
  },
  {
   "cell_type": "code",
   "execution_count": 14,
   "metadata": {},
   "outputs": [
    {
     "name": "stdout",
     "output_type": "stream",
     "text": [
      "name\n",
      "Donald      Doctor\n",
      "Eric      Engineer\n",
      "Name: job, dtype: object\n"
     ]
    }
   ],
   "source": [
    "print(df['job'][df['age'] > 40])"
   ]
  },
  {
   "cell_type": "code",
   "execution_count": 15,
   "metadata": {},
   "outputs": [
    {
     "name": "stdout",
     "output_type": "stream",
     "text": [
      "        age     job  marriage\n",
      "name                         \n",
      "Cole     38  Police     False\n",
      "Donald   44  Doctor      True\n"
     ]
    }
   ],
   "source": [
    "print(df[2:4])"
   ]
  },
  {
   "cell_type": "code",
   "execution_count": 20,
   "metadata": {},
   "outputs": [
    {
     "data": {
      "text/html": [
       "<div>\n",
       "<style>\n",
       "    .dataframe thead tr:only-child th {\n",
       "        text-align: right;\n",
       "    }\n",
       "\n",
       "    .dataframe thead th {\n",
       "        text-align: left;\n",
       "    }\n",
       "\n",
       "    .dataframe tbody tr th {\n",
       "        vertical-align: top;\n",
       "    }\n",
       "</style>\n",
       "<table border=\"1\" class=\"dataframe\">\n",
       "  <thead>\n",
       "    <tr style=\"text-align: right;\">\n",
       "      <th></th>\n",
       "      <th></th>\n",
       "      <th>pop</th>\n",
       "    </tr>\n",
       "    <tr>\n",
       "      <th>country</th>\n",
       "      <th>city</th>\n",
       "      <th></th>\n",
       "    </tr>\n",
       "  </thead>\n",
       "  <tbody>\n",
       "    <tr>\n",
       "      <th rowspan=\"3\" valign=\"top\">Thailand</th>\n",
       "      <th>Bangkok</th>\n",
       "      <td>122</td>\n",
       "    </tr>\n",
       "    <tr>\n",
       "      <th>Nontaburi</th>\n",
       "      <td>9</td>\n",
       "    </tr>\n",
       "    <tr>\n",
       "      <th>Chonburi</th>\n",
       "      <td>45</td>\n",
       "    </tr>\n",
       "    <tr>\n",
       "      <th rowspan=\"2\" valign=\"top\">England</th>\n",
       "      <th>London</th>\n",
       "      <td>13</td>\n",
       "    </tr>\n",
       "    <tr>\n",
       "      <th>Liverpool</th>\n",
       "      <td>87</td>\n",
       "    </tr>\n",
       "    <tr>\n",
       "      <th>USA</th>\n",
       "      <th>New york</th>\n",
       "      <td>7</td>\n",
       "    </tr>\n",
       "    <tr>\n",
       "      <th>Spain</th>\n",
       "      <th>Madrid</th>\n",
       "      <td>12</td>\n",
       "    </tr>\n",
       "  </tbody>\n",
       "</table>\n",
       "</div>"
      ],
      "text/plain": [
       "                    pop\n",
       "country  city          \n",
       "Thailand Bangkok    122\n",
       "         Nontaburi    9\n",
       "         Chonburi    45\n",
       "England  London      13\n",
       "         Liverpool   87\n",
       "USA      New york     7\n",
       "Spain    Madrid      12"
      ]
     },
     "execution_count": 20,
     "metadata": {},
     "output_type": "execute_result"
    }
   ],
   "source": [
    "df = pd.DataFrame({\n",
    "    'country':['Thailand','Thailand','Thailand','England', 'England','USA','Spain'],\n",
    "    'city':['Bangkok','Nontaburi','Chonburi','London','Liverpool', 'New york', 'Madrid'],\n",
    "    'pop':[122,9,45,13,87,7,12]\n",
    "})\n",
    "df = df.set_index(['country', 'city'])\n",
    "df"
   ]
  },
  {
   "cell_type": "code",
   "execution_count": 25,
   "metadata": {},
   "outputs": [
    {
     "data": {
      "text/html": [
       "<div>\n",
       "<style>\n",
       "    .dataframe thead tr:only-child th {\n",
       "        text-align: right;\n",
       "    }\n",
       "\n",
       "    .dataframe thead th {\n",
       "        text-align: left;\n",
       "    }\n",
       "\n",
       "    .dataframe tbody tr th {\n",
       "        vertical-align: top;\n",
       "    }\n",
       "</style>\n",
       "<table border=\"1\" class=\"dataframe\">\n",
       "  <thead>\n",
       "    <tr style=\"text-align: right;\">\n",
       "      <th></th>\n",
       "      <th>pop</th>\n",
       "    </tr>\n",
       "    <tr>\n",
       "      <th>city</th>\n",
       "      <th></th>\n",
       "    </tr>\n",
       "  </thead>\n",
       "  <tbody>\n",
       "    <tr>\n",
       "      <th>Bangkok</th>\n",
       "      <td>122</td>\n",
       "    </tr>\n",
       "    <tr>\n",
       "      <th>Nontaburi</th>\n",
       "      <td>9</td>\n",
       "    </tr>\n",
       "    <tr>\n",
       "      <th>Chonburi</th>\n",
       "      <td>45</td>\n",
       "    </tr>\n",
       "  </tbody>\n",
       "</table>\n",
       "</div>"
      ],
      "text/plain": [
       "           pop\n",
       "city          \n",
       "Bangkok    122\n",
       "Nontaburi    9\n",
       "Chonburi    45"
      ]
     },
     "execution_count": 25,
     "metadata": {},
     "output_type": "execute_result"
    }
   ],
   "source": [
    "df.loc['Thailand']"
   ]
  },
  {
   "cell_type": "code",
   "execution_count": 26,
   "metadata": {},
   "outputs": [
    {
     "data": {
      "text/plain": [
       "pop    122\n",
       "Name: (Thailand, Bangkok), dtype: int64"
      ]
     },
     "execution_count": 26,
     "metadata": {},
     "output_type": "execute_result"
    }
   ],
   "source": [
    "df.loc['Thailand', 'Bangkok']"
   ]
  },
  {
   "cell_type": "code",
   "execution_count": 30,
   "metadata": {},
   "outputs": [
    {
     "data": {
      "text/html": [
       "<div>\n",
       "<style>\n",
       "    .dataframe thead tr:only-child th {\n",
       "        text-align: right;\n",
       "    }\n",
       "\n",
       "    .dataframe thead th {\n",
       "        text-align: left;\n",
       "    }\n",
       "\n",
       "    .dataframe tbody tr th {\n",
       "        vertical-align: top;\n",
       "    }\n",
       "</style>\n",
       "<table border=\"1\" class=\"dataframe\">\n",
       "  <thead>\n",
       "    <tr style=\"text-align: right;\">\n",
       "      <th></th>\n",
       "      <th></th>\n",
       "      <th>pop</th>\n",
       "    </tr>\n",
       "    <tr>\n",
       "      <th>country</th>\n",
       "      <th>city</th>\n",
       "      <th></th>\n",
       "    </tr>\n",
       "  </thead>\n",
       "  <tbody>\n",
       "    <tr>\n",
       "      <th rowspan=\"2\" valign=\"top\">Thailand</th>\n",
       "      <th>Bangkok</th>\n",
       "      <td>122</td>\n",
       "    </tr>\n",
       "    <tr>\n",
       "      <th>Chonburi</th>\n",
       "      <td>45</td>\n",
       "    </tr>\n",
       "  </tbody>\n",
       "</table>\n",
       "</div>"
      ],
      "text/plain": [
       "                   pop\n",
       "country  city         \n",
       "Thailand Bangkok   122\n",
       "         Chonburi   45"
      ]
     },
     "execution_count": 30,
     "metadata": {},
     "output_type": "execute_result"
    }
   ],
   "source": [
    "df.loc[[('Thailand', 'Bangkok'), ('Thailand', 'Chonburi')]]"
   ]
  },
  {
   "cell_type": "code",
   "execution_count": null,
   "metadata": {
    "collapsed": true
   },
   "outputs": [],
   "source": []
  }
 ],
 "metadata": {
  "kernelspec": {
   "display_name": "Python 3",
   "language": "python",
   "name": "python3"
  },
  "language_info": {
   "codemirror_mode": {
    "name": "ipython",
    "version": 3
   },
   "file_extension": ".py",
   "mimetype": "text/x-python",
   "name": "python",
   "nbconvert_exporter": "python",
   "pygments_lexer": "ipython3",
   "version": "3.6.1"
  }
 },
 "nbformat": 4,
 "nbformat_minor": 2
}
